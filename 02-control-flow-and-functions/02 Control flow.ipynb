{
 "cells": [
  {
   "cell_type": "markdown",
   "metadata": {},
   "source": [
    "# Control Flow\n",
    "\n",
    "### Learning Objectives:\n",
    "\n",
    "- Understand and implement conditional statements in Python.\n",
    "- Learn about loops and their application in data analysis.\n",
    "\n",
    "### Lesson Content:\n",
    "\n",
    "#### 1. Conditional Statements in Python\n",
    "\n",
    "- Introduction to if, elif, and else statements.\n",
    "- Logical operators (and, or, not) and their use in conditional statements.\n",
    "- Conditional statements for data filtering and segmentation.\n",
    "\n",
    "#### 2. Loops in Python\n",
    "\n",
    "- Introduction to for loops and while loops.\n",
    "- Iterating through data structures (lists, dictionaries) using loops.\n",
    "- Application of loops in data processing and analysis."
   ]
  },
  {
   "cell_type": "markdown",
   "metadata": {},
   "source": []
  },
  {
   "cell_type": "markdown",
   "metadata": {},
   "source": [
    "------"
   ]
  },
  {
   "cell_type": "markdown",
   "metadata": {},
   "source": [
    "## Conditional statements"
   ]
  },
  {
   "cell_type": "markdown",
   "metadata": {},
   "source": [
    "#### Comparison Operators:\n",
    "\n",
    "| Operator | Meaning |\n",
    "| --- | --- |\n",
    "| == | Equal to |\n",
    "| != | Not equal to |\n",
    "| <| Less than |\n",
    "| > | Greater Than |\n",
    "| <= |Less than or Equal to |\n",
    "| >= | Greater than or Equal to |"
   ]
  },
  {
   "cell_type": "code",
   "execution_count": null,
   "metadata": {},
   "outputs": [],
   "source": [
    "42 == 42"
   ]
  },
  {
   "cell_type": "code",
   "execution_count": null,
   "metadata": {},
   "outputs": [],
   "source": [
    "40 > 42"
   ]
  },
  {
   "cell_type": "code",
   "execution_count": null,
   "metadata": {},
   "outputs": [],
   "source": [
    "'hello' == 'hello'"
   ]
  },
  {
   "cell_type": "code",
   "execution_count": null,
   "metadata": {},
   "outputs": [],
   "source": [
    "'hello' == 'Hello'"
   ]
  },
  {
   "cell_type": "code",
   "execution_count": null,
   "metadata": {},
   "outputs": [],
   "source": [
    "'dog' != 'cat'"
   ]
  },
  {
   "cell_type": "code",
   "execution_count": null,
   "metadata": {},
   "outputs": [],
   "source": [
    "42 == 42.0"
   ]
  },
  {
   "cell_type": "code",
   "execution_count": null,
   "metadata": {},
   "outputs": [],
   "source": [
    "42 == '42'"
   ]
  },
  {
   "cell_type": "markdown",
   "metadata": {},
   "source": [
    "#### Boolean Operators:\n",
    "\n",
    "1. `and`\n",
    "2. `or`\n",
    "3. `not`"
   ]
  },
  {
   "cell_type": "code",
   "execution_count": null,
   "metadata": {},
   "outputs": [],
   "source": [
    "expr_1 = (42 == 42) and (42 != 42)\n",
    "print(exp_1)\n",
    "\n",
    "expr_2 = (42 == 42) or (42 != 42)\n",
    "print(expr_2)\n",
    "\n",
    "expr_3 = not (42 == 42)\n",
    "print(expr_3)\n",
    "\n",
    "expr_4 = (42 > 43) or not (42 == 42)\n",
    "print(expr_4)"
   ]
  },
  {
   "cell_type": "markdown",
   "metadata": {},
   "source": [
    "#### If statements:\n",
    "\n",
    "The if statement evaluates an expression, and if that expression is True, it then executes the following indented code.\n",
    "\n",
    "Syntax:\n",
    "\n",
    "```\n",
    "if <expression>:\n",
    "    <code>\n",
    "```"
   ]
  },
  {
   "cell_type": "code",
   "execution_count": null,
   "metadata": {},
   "outputs": [],
   "source": [
    "if 42 > 40:\n",
    "    print('It is true that 42 is greater than 40')"
   ]
  },
  {
   "cell_type": "code",
   "execution_count": null,
   "metadata": {},
   "outputs": [],
   "source": [
    "name = 'Nhu'\n",
    "\n",
    "if name == 'Nhu':\n",
    "    print('Hello Nhu')\n",
    "\n",
    "if name != 'Nhu':\n",
    "    print('You are not Nhu')"
   ]
  },
  {
   "cell_type": "code",
   "execution_count": null,
   "metadata": {},
   "outputs": [],
   "source": [
    "name = 'Nhu'\n",
    "\n",
    "if name == 'Nhu':\n",
    "    name = 'Nam'\n",
    "\n",
    "print('Hello ' + name)"
   ]
  },
  {
   "cell_type": "code",
   "execution_count": null,
   "metadata": {},
   "outputs": [],
   "source": [
    "name = 'Nam'\n",
    "\n",
    "if name == 'Nhu':\n",
    "    surname = 'Truong'\n",
    "\n",
    "print('Hello ' + name + ' ' + surname)"
   ]
  },
  {
   "cell_type": "markdown",
   "metadata": {},
   "source": [
    "#### If else statements:\n",
    "\n",
    "Syntax:\n",
    "\n",
    "```\n",
    "if <expression>:\n",
    "    <code>\n",
    "elif <expression>:\n",
    "    <code>\n",
    "elif <expression>:\n",
    "    <code>\n",
    "else:\n",
    "    <code>\n",
    "```"
   ]
  },
  {
   "cell_type": "code",
   "execution_count": null,
   "metadata": {},
   "outputs": [],
   "source": [
    "name = 'Nhu'\n",
    "\n",
    "if name == 'Nhu':\n",
    "    print('Hello Nhu')\n",
    "else:\n",
    "    print('You are not Nhu')"
   ]
  },
  {
   "cell_type": "code",
   "execution_count": null,
   "metadata": {},
   "outputs": [],
   "source": [
    "num = input('Enter a number: ')\n",
    "num = float(num)\n",
    "\n",
    "if num > 0:\n",
    "    print('The number is positive')\n",
    "elif num < 0:\n",
    "    print('The number is negative')\n",
    "else:\n",
    "    print('The number is zero')"
   ]
  },
  {
   "cell_type": "markdown",
   "metadata": {},
   "source": [
    "##### Practice:"
   ]
  },
  {
   "cell_type": "code",
   "execution_count": null,
   "metadata": {},
   "outputs": [],
   "source": [
    "# Write a program that asks the user to enter a number and prints out whether it is even or odd. (Assume that the user can only enter integers)"
   ]
  },
  {
   "cell_type": "code",
   "execution_count": null,
   "metadata": {},
   "outputs": [],
   "source": [
    "# Write a program that asks the user to enter name and age. Print out a message with the name and evaluated age. (Assume that the user can only enter integers)\n",
    "# For example, if the user enters 'Nhu' and 21, the program should print out 'Nhu is 21 years old and is an adult'"
   ]
  },
  {
   "cell_type": "code",
   "execution_count": null,
   "metadata": {},
   "outputs": [],
   "source": [
    "# Write a program that simulates a traffic light sequence based on a given signal.\n",
    "\n",
    "# The valid inputs are 'red', 'yellow', and 'green'. The program should print out the next signal.\n",
    "# For example, if the user enters 'red', the program should print out 'green'.\n",
    "# If input is not valid, the program should print out 'invalid input'.\n",
    "\n",
    "# To make it more challenging, the program should assist the user by allowing case insensitive input.\n",
    "# For example, if the user enters 'RED' or 'Red', the program should accept it."
   ]
  },
  {
   "cell_type": "markdown",
   "metadata": {},
   "source": [
    "## Loop\n",
    "\n",
    "In computer programming, loops are used to repeat a block of code.\n",
    "\n",
    "For example, if we want to show a message 100 times, then we can use a loop. It's just a simple example, you can achieve much more with loops.\n",
    "\n",
    "There are 2 types of loops in Python:\n",
    "\n",
    "- for loop\n",
    "- while loop"
   ]
  },
  {
   "cell_type": "markdown",
   "metadata": {},
   "source": [
    "### while loop\n",
    "\n",
    "Syntax:\n",
    "\n",
    "```\n",
    "while <expression>:\n",
    "    <code>\n",
    "```"
   ]
  },
  {
   "cell_type": "code",
   "execution_count": null,
   "metadata": {},
   "outputs": [],
   "source": [
    "count = 0\n",
    "while count < 5:\n",
    "    print(count)\n",
    "    count = count + 1"
   ]
  },
  {
   "cell_type": "code",
   "execution_count": null,
   "metadata": {},
   "outputs": [],
   "source": [
    "# Spot the bug in the following code\n",
    "\n",
    "name = 'Nhu'\n",
    "while name == 'Nhu':\n",
    "    print('Hello Nhu')"
   ]
  },
  {
   "cell_type": "code",
   "execution_count": null,
   "metadata": {},
   "outputs": [],
   "source": [
    "name = ''\n",
    "\n",
    "while name != 'Nhu':\n",
    "    name = input('Enter your name: ')\n",
    "    print(f'Hello {name}, we are looking for Nhu')\n",
    "\n",
    "print('We found Nhu')"
   ]
  },
  {
   "cell_type": "markdown",
   "metadata": {},
   "source": [
    "NOTE: Always have a terminal when writing code for loop!"
   ]
  },
  {
   "cell_type": "markdown",
   "metadata": {},
   "source": [
    "### for loop\n",
    "\n",
    "Syntax:\n",
    "\n",
    "```\n",
    "for <iterator_variable> in <sequence>:\n",
    "    <code>\n",
    "```"
   ]
  },
  {
   "cell_type": "code",
   "execution_count": null,
   "metadata": {},
   "outputs": [],
   "source": [
    "for i in range(5):\n",
    "    print(i)"
   ]
  },
  {
   "cell_type": "code",
   "execution_count": null,
   "metadata": {},
   "outputs": [],
   "source": [
    "n = 10\n",
    "for i in range(5, n):\n",
    "    print(i)"
   ]
  },
  {
   "cell_type": "code",
   "execution_count": null,
   "metadata": {},
   "outputs": [],
   "source": [
    "n = 20\n",
    "for i in range(5, n, 2):\n",
    "    print(i)"
   ]
  },
  {
   "cell_type": "code",
   "execution_count": null,
   "metadata": {},
   "outputs": [],
   "source": [
    "fruits = ['apple', 'banana', 'cherry']\n",
    "for fruit in fruits:\n",
    "    print(f'Nhu likes {fruit}')"
   ]
  },
  {
   "cell_type": "code",
   "execution_count": null,
   "metadata": {},
   "outputs": [],
   "source": [
    "fruits = ['apple', 'banana', 'cherry']\n",
    "for fruit in fruits:\n",
    "    if fruit == 'banana':\n",
    "        print(f'Nhu likes {fruit}')"
   ]
  },
  {
   "cell_type": "code",
   "execution_count": null,
   "metadata": {},
   "outputs": [],
   "source": [
    "fruits = ['apple', 'banana', 'cherry']\n",
    "for fruit in fruits:\n",
    "    print(f'Nhu likes {fruit}')\n",
    "    if fruit == 'banana':\n",
    "        break"
   ]
  },
  {
   "cell_type": "code",
   "execution_count": null,
   "metadata": {},
   "outputs": [],
   "source": [
    "stmt = 'Nhu likes apple'\n",
    "for char in stmt:\n",
    "    print(char)"
   ]
  },
  {
   "cell_type": "markdown",
   "metadata": {},
   "source": [
    "### Practice"
   ]
  },
  {
   "cell_type": "code",
   "execution_count": null,
   "metadata": {},
   "outputs": [],
   "source": [
    "# Count how many times 'e' appears in the following string\n",
    "\n",
    "stmt = 'Nhu likes apple'"
   ]
  },
  {
   "cell_type": "code",
   "execution_count": null,
   "metadata": {},
   "outputs": [],
   "source": [
    "# Count how many times 0 and 1 appear in the following list\n",
    "\n",
    "nums = [0, 1, 0, 1, 1, 0, 0, 1, 0]"
   ]
  },
  {
   "cell_type": "code",
   "execution_count": null,
   "metadata": {},
   "outputs": [],
   "source": [
    "# Write a program that asks the user to enter a number and prints out the sum of all numbers from 0 to the entered number"
   ]
  },
  {
   "cell_type": "code",
   "execution_count": null,
   "metadata": {},
   "outputs": [],
   "source": [
    "# Write a program that asks the user to enter a number and prints out the sum of all even numbers from 0 to the entered number"
   ]
  },
  {
   "cell_type": "code",
   "execution_count": null,
   "metadata": {},
   "outputs": [],
   "source": [
    "# Write a program that asks the user to enter a number until the user enters 0. The program then calculates:\n",
    "# - The total number\n",
    "# - The total number of positive numbers\n",
    "# - The total number of negative numbers\n",
    "# - The sum of all numbers\n",
    "# - The average of all numbers"
   ]
  },
  {
   "cell_type": "code",
   "execution_count": null,
   "metadata": {},
   "outputs": [],
   "source": [
    "# Write a program that asks the user to enter salary. Calculate the tax and net salary based on the following tax rates:\n",
    "# 0 - 1000: 5%\n",
    "# 1001 - 2000: 10%\n",
    "# 2001 - 3000: 20%\n",
    "# 3001 - 4000: 30%\n",
    "# above 4000: 40%"
   ]
  },
  {
   "cell_type": "code",
   "execution_count": null,
   "metadata": {},
   "outputs": [],
   "source": [
    "# Write a program that asks the user to enter a number and prints out whether it is a prime number or not. (Assume that the user can enter any number)"
   ]
  },
  {
   "cell_type": "code",
   "execution_count": null,
   "metadata": {},
   "outputs": [],
   "source": [
    "# Write a program that asks the user to enter a number and check if the number is a square number or not. (Assume that the user can enter any number)"
   ]
  },
  {
   "cell_type": "code",
   "execution_count": null,
   "metadata": {},
   "outputs": [],
   "source": [
    "# Write a program that asks the user to enter a number and prints out the factorial of that number. (Assume that the user can enter any integers)\n",
    "# Note that factorial of negative numbers exists but is not valid for this exercise."
   ]
  },
  {
   "cell_type": "code",
   "execution_count": null,
   "metadata": {},
   "outputs": [],
   "source": [
    "# Write a program that asks the user to enter a number and prints out the Fibonacci sequence up to that number. (Assume that the user can enter any integers)"
   ]
  },
  {
   "cell_type": "markdown",
   "metadata": {},
   "source": [
    "#### Game challenge:\n",
    "\n",
    "Develop a Guessing Game:\n",
    "- Let computer generate a hidden number (a random number but controlled, for example a number from 0 - 100).\n",
    "- The user have 5 guesses.\n",
    "- Everytime user has wrong guess, the program print out clue and the number of guess left. (The clue can be \"LOWER\" or \"HIGHER\").\n",
    "- If user has correct guess, the program cheers and stop.\n",
    "- If user runs out of guess, the program print out \"GAME OVER\" and stop."
   ]
  }
 ],
 "metadata": {
  "kernelspec": {
   "display_name": "Python 3 (ipykernel)",
   "language": "python",
   "name": "python3"
  },
  "language_info": {
   "codemirror_mode": {
    "name": "ipython",
    "version": 3
   },
   "file_extension": ".py",
   "mimetype": "text/x-python",
   "name": "python",
   "nbconvert_exporter": "python",
   "pygments_lexer": "ipython3",
   "version": "3.8.10"
  }
 },
 "nbformat": 4,
 "nbformat_minor": 2
}
