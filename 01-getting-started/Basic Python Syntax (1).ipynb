{
 "cells": [
  {
   "cell_type": "markdown",
   "id": "a570cae6",
   "metadata": {},
   "source": [
    "# Basic Python Syntax"
   ]
  },
  {
   "cell_type": "markdown",
   "id": "f4a90589",
   "metadata": {},
   "source": [
    "### 1. Hello world"
   ]
  },
  {
   "cell_type": "code",
   "execution_count": 3,
   "id": "4ed8de41",
   "metadata": {},
   "outputs": [
    {
     "name": "stdout",
     "output_type": "stream",
     "text": [
      "Hello world\n"
     ]
    }
   ],
   "source": [
    "print(\"Hello world\")"
   ]
  },
  {
   "cell_type": "markdown",
   "id": "4e3fb893",
   "metadata": {},
   "source": [
    "### 2. Variables and Assignments:\n",
    "Variables are containers for storing data values.\n",
    "A variable is created the moment you first assign a value to it."
   ]
  },
  {
   "cell_type": "code",
   "execution_count": 4,
   "id": "4580028e",
   "metadata": {},
   "outputs": [
    {
     "name": "stdout",
     "output_type": "stream",
     "text": [
      "10\n",
      "-5.5\n"
     ]
    }
   ],
   "source": [
    "a = 10\n",
    "b = -5.5\n",
    "\n",
    "print(a)\n",
    "print(b)"
   ]
  },
  {
   "cell_type": "markdown",
   "id": "011e97b1",
   "metadata": {},
   "source": [
    "Variables do not need to be declared with any particular type, and can even change type after they have been set."
   ]
  },
  {
   "cell_type": "code",
   "execution_count": 1,
   "id": "20cc6077",
   "metadata": {},
   "outputs": [
    {
     "name": "stdout",
     "output_type": "stream",
     "text": [
      "Hi\n",
      "50\n",
      "100\n"
     ]
    }
   ],
   "source": [
    "var0 = 100\n",
    "var_1 = \"Hello\"\n",
    "\n",
    "var_0 = \"Hi\"\n",
    "var_1 = 50\n",
    "\n",
    "print(var_0)\n",
    "print(var_1)"
   ]
  },
  {
   "cell_type": "markdown",
   "id": "d8f0e67f",
   "metadata": {},
   "source": [
    "Variable name may:\n",
    "- Use upper-case and lower-case letters\n",
    "- Use numbers\n",
    "- Use underscore characters (an underscore is the _ character)\n",
    "\n",
    "Variable name can **NOT**:\n",
    "- Use spaces\n",
    "- Start with a number\n",
    "\n",
    "Variable names are case-sensitive."
   ]
  },
  {
   "cell_type": "code",
   "execution_count": 6,
   "id": "48098c43",
   "metadata": {},
   "outputs": [
    {
     "name": "stdout",
     "output_type": "stream",
     "text": [
      "10\n",
      "abc\n",
      "abc\n",
      "90\n"
     ]
    }
   ],
   "source": [
    "var, Var = 10, \"abc\"\n",
    "print(var)\n",
    "print(Var)\n",
    "\n",
    "var, Var, Varr, varR = 10, \"are\", \"abc\", 90\n",
    "print(Varr)\n",
    "print(varR)\n",
    "\n",
    "#10, abc, abc, 90"
   ]
  },
  {
   "cell_type": "markdown",
   "id": "1ff8cffc",
   "metadata": {},
   "source": [
    "### 3. Comments\n",
    "Python has commenting capability for the purpose of in-code documentation.\n",
    "Comments start with a #, and Python will render the rest of the line as a comment:"
   ]
  },
  {
   "cell_type": "code",
   "execution_count": 8,
   "id": "5f5cae90",
   "metadata": {},
   "outputs": [
    {
     "data": {
      "text/plain": [
       "'\\nThis is a comment\\nwritten in\\nmore than just one line\\n'"
      ]
     },
     "execution_count": 8,
     "metadata": {},
     "output_type": "execute_result"
    }
   ],
   "source": [
    "# This is a comment 1\n",
    "# This is a comment 2\n",
    "\n",
    "var = 10 # This is also a comment\n",
    "\n",
    "\"\"\"\n",
    "This is a comment\n",
    "written in\n",
    "more than just one line\n",
    "\"\"\""
   ]
  },
  {
   "cell_type": "markdown",
   "id": "ea954565",
   "metadata": {},
   "source": [
    "### 4. Data types\n",
    "In programming, data type is an important concept.\n",
    "\n",
    "Variables can store data of different types, and different types can do different things.\n",
    "\n",
    "Python has the following data types built-in by default, in these categories:\n",
    "\n",
    "| Name | Notation |\n",
    "| --- | --- |\n",
    "| Text Type | str |\n",
    "| Numeric Types | int, float, complex |\n",
    "| Sequence Types | list, tuple, range |\n",
    "| Mapping Type | dict |\n",
    "| Set Types | set, frozenset |\n",
    "| Boolean Type | bool |\n",
    "| Binary Types | bytes, bytearray, memoryview |\n",
    "| None Type | NoneType |"
   ]
  },
  {
   "cell_type": "code",
   "execution_count": 10,
   "id": "32591605",
   "metadata": {},
   "outputs": [
    {
     "name": "stdout",
     "output_type": "stream",
     "text": [
      "['apple', 'banana', 'cherry', 'apple']\n"
     ]
    }
   ],
   "source": [
    "x = \"Hello world\" # str\n",
    "x = 10            # int\n",
    "x = 3.14          # float\n",
    "\n",
    "x = [\"apple\", \"banana\", \"cherry\", \"apple\"] # list\n",
    "x = (\"apple\", \"banana\", \"cherry\") # tuple\n",
    "\n",
    "x = {                             # dict\n",
    "        \"name\": \"John\",\n",
    "        \"age\": 36\n",
    "    }\n",
    "\n",
    "x = {\"apple\", \"banana\", \"cherry\"} # set\n",
    "\n",
    "x = True          # bool\n",
    "x = False         # bool\n",
    "\n",
    "x = None          # NoneType\n",
    "\n",
    "x = 3.14"
   ]
  },
  {
   "cell_type": "code",
   "execution_count": 11,
   "id": "7c8e6191",
   "metadata": {},
   "outputs": [
    {
     "name": "stdout",
     "output_type": "stream",
     "text": [
      "<class 'float'>\n"
     ]
    }
   ],
   "source": [
    "print(type(x))"
   ]
  },
  {
   "cell_type": "markdown",
   "id": "f5651542",
   "metadata": {},
   "source": [
    "#### Practice\n",
    "Create variables to store your name, age, and a favorite color. Print these variables using the print() function."
   ]
  },
  {
   "cell_type": "code",
   "execution_count": 21,
   "id": "dc588e49",
   "metadata": {},
   "outputs": [
    {
     "name": "stdout",
     "output_type": "stream",
     "text": [
      "Nhu\n",
      "19\n",
      "green\n"
     ]
    }
   ],
   "source": [
    "name = \"Nhu\"\n",
    "age = 19\n",
    "color = \"green\"\n",
    "\n",
    "print(name)\n",
    "print(age)\n",
    "print(color)"
   ]
  },
  {
   "cell_type": "markdown",
   "id": "2421aed7",
   "metadata": {},
   "source": [
    "### 5. Casting\n",
    "There may be times when you want to specify a type on to a variable. This can be done with casting. Python is an object-orientated language, and as such it uses classes to define data types, including its primitive types.\n",
    "\n",
    "Casting in python is therefore done using constructor functions:\n",
    "\n",
    "- `int()` - constructs an integer number from an integer literal, a float literal (by removing all decimals), or a string literal (providing the string represents a whole number)\n",
    "- `float()` - constructs a float number from an integer literal, a float literal or a string literal (providing the string represents a float or an integer)\n",
    "- `str()` - constructs a string from a wide variety of data types, including strings, integer literals and float literals"
   ]
  },
  {
   "cell_type": "code",
   "execution_count": 17,
   "id": "c8edc93a",
   "metadata": {},
   "outputs": [
    {
     "name": "stdout",
     "output_type": "stream",
     "text": [
      "<class 'int'>\n",
      "<class 'int'>\n",
      "<class 'int'>\n"
     ]
    }
   ],
   "source": [
    "x = int(1)   # x will be 1\n",
    "y = int(2.8) # y will be 2\n",
    "z = int(\"3\") # z will be 3 \n",
    "\n",
    "# Todo: Check their data type\n",
    "print(type(x))\n",
    "print(type(y))\n",
    "print(type(z))"
   ]
  },
  {
   "cell_type": "code",
   "execution_count": 18,
   "id": "36d9e0b2",
   "metadata": {
    "scrolled": true
   },
   "outputs": [
    {
     "name": "stdout",
     "output_type": "stream",
     "text": [
      "<class 'float'> <class 'float'> <class 'float'> <class 'float'>\n"
     ]
    }
   ],
   "source": [
    "x = float(1)     # x will be 1.0\n",
    "y = float(2.8)   # y will be 2.8\n",
    "z = float(\"3\")   # z will be 3.0\n",
    "w = float(\"4.2\") # w will be 4.2\n",
    "\n",
    "# Todo: Check their data type\n",
    "print(type(x), type(y), type(z), type(w))"
   ]
  },
  {
   "cell_type": "code",
   "execution_count": 21,
   "id": "cd02a321",
   "metadata": {},
   "outputs": [
    {
     "name": "stdout",
     "output_type": "stream",
     "text": [
      "s1 <class 'str'>\n",
      "2 <class 'str'>\n",
      "3.0 <class 'str'>\n"
     ]
    }
   ],
   "source": [
    "x = str(\"s1\") # x will be 's1'\n",
    "y = str(2)    # y will be '2'\n",
    "z = str(3.0)  # z will be '3.0'\n",
    "\n",
    "# Todo: Check their data type\n",
    "print(x, type(x))\n",
    "print(y, type(y))\n",
    "print(z, type(z))"
   ]
  },
  {
   "cell_type": "markdown",
   "id": "8c55619d",
   "metadata": {},
   "source": [
    "Cast a number type to string type (and vice versa). Then print them and check their data type."
   ]
  },
  {
   "cell_type": "code",
   "execution_count": 26,
   "id": "5b15e4b0",
   "metadata": {},
   "outputs": [
    {
     "name": "stdout",
     "output_type": "stream",
     "text": [
      "5 <class 'str'>\n",
      "11.0 <class 'float'>\n"
     ]
    }
   ],
   "source": [
    "x = str(5)\n",
    "y = float(\"11\")\n",
    "\n",
    "print(x, type(x))\n",
    "print(y, type(y))"
   ]
  },
  {
   "cell_type": "markdown",
   "id": "7ae5d901",
   "metadata": {},
   "source": [
    "### 6. String\n",
    "\n",
    "Strings in python are surrounded by either single quotation marks, or double quotation marks.\n",
    "\n",
    "`'hello'` is the same as `\"hello\"`.\n",
    "\n",
    "You can display a string literal with the `print()` function:"
   ]
  },
  {
   "cell_type": "code",
   "execution_count": 27,
   "id": "7f0e38e0",
   "metadata": {},
   "outputs": [
    {
     "name": "stdout",
     "output_type": "stream",
     "text": [
      "Hello, this is basic python\n"
     ]
    }
   ],
   "source": [
    "print(\"Hello, this is basic python\")"
   ]
  },
  {
   "cell_type": "markdown",
   "id": "b6ca5804",
   "metadata": {},
   "source": [
    "Assigning a string to a variable"
   ]
  },
  {
   "cell_type": "code",
   "execution_count": 25,
   "id": "af247cfb",
   "metadata": {},
   "outputs": [
    {
     "name": "stdout",
     "output_type": "stream",
     "text": [
      "Nhu\n"
     ]
    }
   ],
   "source": [
    "name = \"Nhu\"\n",
    "print(name)"
   ]
  },
  {
   "cell_type": "markdown",
   "id": "41bd2a05",
   "metadata": {},
   "source": [
    "To get the length of a string, use the len() function."
   ]
  },
  {
   "cell_type": "code",
   "execution_count": 26,
   "id": "0818658b",
   "metadata": {},
   "outputs": [
    {
     "name": "stdout",
     "output_type": "stream",
     "text": [
      "8\n"
     ]
    }
   ],
   "source": [
    "name = \"Hong Nhu\"\n",
    "print(len(name))"
   ]
  },
  {
   "cell_type": "markdown",
   "id": "c8502894",
   "metadata": {},
   "source": [
    "To check if a certain phrase or character is present in a string, we can use the keyword `in`."
   ]
  },
  {
   "cell_type": "code",
   "execution_count": 33,
   "id": "6266bf7b",
   "metadata": {},
   "outputs": [
    {
     "name": "stdout",
     "output_type": "stream",
     "text": [
      "True\n",
      "False\n"
     ]
    }
   ],
   "source": [
    "txt = \"The best things in life are free!\"\n",
    "print(\"free\" in txt)\n",
    "#print xem thử chữ free có nằm trong biến txt không\n",
    "\n",
    "print(\"meo\" in txt)"
   ]
  },
  {
   "cell_type": "markdown",
   "id": "db08d464",
   "metadata": {},
   "source": [
    "Use it in an `if` statement:"
   ]
  },
  {
   "cell_type": "code",
   "execution_count": 36,
   "id": "c83e1453",
   "metadata": {},
   "outputs": [
    {
     "name": "stdout",
     "output_type": "stream",
     "text": [
      "Yes, 'free' is present.\n",
      "Chuc ban may man lan sau!\n"
     ]
    }
   ],
   "source": [
    "# Print only if \"free\" is present:\n",
    "txt = \"The best things in life are free!\"\n",
    "if \"free\" in txt:\n",
    "  print(\"Yes, 'free' is present.\")\n",
    "\n",
    "if \"meo\" not in txt:\n",
    "    print(\"Chuc ban may man lan sau!\")\n",
    "    \n",
    "if \"meo\" in txt:\n",
    "    print(\"wrong\")"
   ]
  },
  {
   "cell_type": "code",
   "execution_count": 37,
   "id": "be571b33",
   "metadata": {},
   "outputs": [
    {
     "name": "stdout",
     "output_type": "stream",
     "text": [
      "expensive is not in the variable txt\n"
     ]
    }
   ],
   "source": [
    "# Todo: Check if \"expensive\" is not in the variable txt:\n",
    "if 'expensive' not in txt:\n",
    "    print(\"expensive is not in the variable txt\")"
   ]
  },
  {
   "cell_type": "markdown",
   "id": "13688aff",
   "metadata": {},
   "source": [
    "### 7. Print function"
   ]
  },
  {
   "cell_type": "markdown",
   "id": "5a746ea8",
   "metadata": {},
   "source": [
    "Print a string"
   ]
  },
  {
   "cell_type": "code",
   "execution_count": 38,
   "id": "a8f883c3",
   "metadata": {},
   "outputs": [
    {
     "name": "stdout",
     "output_type": "stream",
     "text": [
      "Hello Nhu\n"
     ]
    }
   ],
   "source": [
    "print(\"Hello Nhu\")"
   ]
  },
  {
   "cell_type": "markdown",
   "id": "66357e83",
   "metadata": {},
   "source": [
    "Print variables"
   ]
  },
  {
   "cell_type": "code",
   "execution_count": 39,
   "id": "7b8f238d",
   "metadata": {},
   "outputs": [
    {
     "name": "stdout",
     "output_type": "stream",
     "text": [
      "Hong Nhu 24\n",
      "Hello my name is  Hong Nhu  I'm  24  years old.\n"
     ]
    }
   ],
   "source": [
    "name = \"Hong Nhu\"\n",
    "age = 24\n",
    "print(name, age)\n",
    "print(\"Hello my name is \", name, \" I'm \", age, \" years old.\")\n",
    "\n",
    "#dấu phẩy không hiện ra ở outcome vì không include vào trong \"\""
   ]
  },
  {
   "cell_type": "markdown",
   "id": "fa1f58cc",
   "metadata": {},
   "source": [
    "Print format string, an easy way to print a format string with other variables:"
   ]
  },
  {
   "cell_type": "code",
   "execution_count": 40,
   "id": "ada0ee6d",
   "metadata": {},
   "outputs": [
    {
     "name": "stdout",
     "output_type": "stream",
     "text": [
      "Hello my name is Hong Nhu, I'm 24 years old.\n",
      "Hello my name is {name}, I'm {age} years old.\n"
     ]
    }
   ],
   "source": [
    "print(f\"Hello my name is {name}, I'm {age} years old.\")\n",
    "print(\"Hello my name is {name}, I'm {age} years old.\")\n",
    "\n",
    "#f là format"
   ]
  },
  {
   "cell_type": "markdown",
   "id": "5471fe07",
   "metadata": {},
   "source": [
    "### 8. Arithmetic Operators\n",
    "\n",
    "| Operator | Name | Example |\n",
    "| --- | --- | --- |\n",
    "| + | Addition | x + y |\n",
    "| - | Subtraction | x - y |\n",
    "| * | Multiplication | x * y |\n",
    "| / | Division | x / y |\n",
    "| % | Modulus | x % y |\n",
    "| ** | Exponentiation | x ** y |\n",
    "| // | Floor division | x // y |"
   ]
  },
  {
   "cell_type": "code",
   "execution_count": 46,
   "id": "8cd499e3",
   "metadata": {},
   "outputs": [
    {
     "name": "stdout",
     "output_type": "stream",
     "text": [
      "5 + 2 = 7\n",
      "5 + 2 = 7\n",
      "5 - 2 = 3\n",
      "5 * 2 = 10\n",
      "5 / 2 = 2.5\n",
      "5 % 2 = 1\n",
      "5 ** 2 = 25\n",
      "5 // 2 = 2\n"
     ]
    }
   ],
   "source": [
    "x = 5\n",
    "y = 2\n",
    "\n",
    "# Todo: perform all arithmetic operators:\n",
    "print(f\"{x} + {y} = {x+y}\")\n",
    "print(x, \"+\", y, \"=\", (x+y))\n",
    "\n",
    "print(f\"{x} - {y} = {x-y}\")\n",
    "print(f\"{x} * {y} = {x*y}\")\n",
    "print(f\"{x} / {y} = {x/y}\")\n",
    "print(f\"{x} % {y} = {x%y}\")   # % là phép chia lấy phần dư, 5 chia 2 = 2 dư 1, kết quả = 1. \n",
    "print(f\"{x} ** {y} = {x**y}\") \n",
    "print(f\"{x} // {y} = {x//y}\") # phép chia lấy phần nguyên"
   ]
  },
  {
   "cell_type": "markdown",
   "id": "91ab7852",
   "metadata": {},
   "source": [
    "### 9. User input\n",
    "Python allows for user input. That means we are able to ask the user for input."
   ]
  },
  {
   "cell_type": "code",
   "execution_count": 48,
   "id": "3edb0b3e",
   "metadata": {
    "scrolled": false
   },
   "outputs": [
    {
     "name": "stdout",
     "output_type": "stream",
     "text": [
      "Sap hoc het bai roi\n",
      "User just typed: Sap hoc het bai roi\n",
      "Hieu roi\n",
      "Hieu roi\n"
     ]
    }
   ],
   "source": [
    "user_input = input()\n",
    "print(\"User just typed: \" + user_input)\n",
    "\n",
    "abc = input()\n",
    "print(abc)"
   ]
  },
  {
   "cell_type": "code",
   "execution_count": 49,
   "id": "ae2e7e34",
   "metadata": {
    "scrolled": true
   },
   "outputs": [
    {
     "name": "stdout",
     "output_type": "stream",
     "text": [
      "What's your name? Nhu\n",
      "Hello Nhu!\n",
      "How old are you? 24\n",
      "So you are 24!\n"
     ]
    }
   ],
   "source": [
    "# Input function can be using with a prompt\n",
    "\n",
    "name = input(\"What's your name? \")\n",
    "print(f\"Hello {name}!\")\n",
    "\n",
    "promt_to_ask = \"How old are you? \"\n",
    "age = input(promt_to_ask)\n",
    "age = int(age)      #lệnh này vì cần làm cho biến age được casting thành số nguyên, vì giá trị của input là string.\n",
    "print(f\"So you are {age}!\")"
   ]
  },
  {
   "cell_type": "markdown",
   "id": "7be80dd6",
   "metadata": {},
   "source": [
    "------"
   ]
  },
  {
   "cell_type": "markdown",
   "id": "7800a1c6",
   "metadata": {},
   "source": [
    "## Practice:\n",
    "### 1. Write a program that:\n",
    "- Input 2 number (int or float)\n",
    "- Print out the result of basic arithmetic operations (`+`, `-`, `*`, `/`, `%`)"
   ]
  },
  {
   "cell_type": "code",
   "execution_count": 2,
   "id": "07206051",
   "metadata": {},
   "outputs": [
    {
     "name": "stdout",
     "output_type": "stream",
     "text": [
      "write float number 1 here: 3.2\n",
      "write float number 2 here: 5\n",
      "3.2 + 5.0 = 8.2\n",
      "3.2 - 5.0 = -1.7999999999999998\n",
      "3.2 * 5.0 = 16.0\n",
      "3.2 / 5.0 = 0.64\n",
      "3.2 % 5.0 = 3.2\n"
     ]
    }
   ],
   "source": [
    "num_1 = input(\"write float number 1 here: \") #giá trị input luôn là 1 string, cho nên phải cast mới làm phép tính được\n",
    "num_2 = input(\"write float number 2 here: \")\n",
    "num_1 = float(num_1)\n",
    "num_2 = float(num_2)\n",
    "print(f\"{num_1} + {num_2} = {num_1 + num_2}\")\n",
    "print(f\"{num_1} - {num_2} = {num_1 - num_2}\")\n",
    "print(f\"{num_1} * {num_2} = {num_1 * num_2}\")\n",
    "print(f\"{num_1} / {num_2} = {num_1 / num_2}\")\n",
    "print(f\"{num_1} % {num_2} = {num_1 % num_2}\")  #2.5 chia 5 = 0 dư 2.5 "
   ]
  },
  {
   "cell_type": "markdown",
   "id": "a310ee95",
   "metadata": {},
   "source": [
    "### 2. Create a Python program that calculates simple interest based on user input for principal amount, interest rate, and time.\n",
    "\n",
    "- Prompt the user to enter the principal amount (initial amount).\n",
    "- Prompt the user to enter the annual interest rate.\n",
    "- Prompt the user to enter the time (in years).\n",
    "- Calculate the simple interest using the formula: `Simple Interest = (Principal * Rate * Time) / 100`\n",
    "- Display the calculated simple interest using the print() function."
   ]
  },
  {
   "cell_type": "code",
   "execution_count": 11,
   "id": "094022b3",
   "metadata": {
    "scrolled": true
   },
   "outputs": [
    {
     "name": "stdout",
     "output_type": "stream",
     "text": [
      "Enter the principal amount: 1000\n",
      "Enter the annual interest rate: 5\n",
      "Enter the time (in years): 1\n",
      "Your simple interest is: 50.0 euro\n"
     ]
    }
   ],
   "source": [
    "principal = input(\"Enter the principal amount: \")\n",
    "interest = input(\"Enter the annual interest rate: \")\n",
    "time = input(\"Enter the time (in years): \")\n",
    "principal = float(principal)\n",
    "interest = float(interest)\n",
    "time = float(time)\n",
    "print(f\"Your simple interest is: {principal * interest * time / 100} euro\") \n",
    "\n",
    "#trình bày zõ zàng cho user hiểu "
   ]
  },
  {
   "cell_type": "markdown",
   "id": "807cd23d",
   "metadata": {},
   "source": [
    "### 3. Write a program that converts temperatures between Celsius and Fahrenheit based on user input:"
   ]
  },
  {
   "cell_type": "code",
   "execution_count": 8,
   "id": "b5f600f4",
   "metadata": {},
   "outputs": [
    {
     "name": "stdout",
     "output_type": "stream",
     "text": [
      "Enter the temperature in Celsius: 0\n",
      "0.0°C = 32.0°F\n"
     ]
    }
   ],
   "source": [
    "\"\"\"\n",
    "4 steps: \n",
    "1. Analysis: \n",
    "- convert C --> F \n",
    "- user input \n",
    "2. Design program\n",
    "- user input (C)\n",
    "- convert formula: F = (C × 9/5) + 32\n",
    "3. Implement (code)\n",
    "4. Test \n",
    "\"\"\"\n",
    "\n",
    "tempt_c = input(\"Enter the temperature in Celsius: \")\n",
    "tempt_c = float(tempt_c)\n",
    "tempt_f = tempt_c * 9/5 + 32\n",
    "print(f\"{tempt_c}°C = {tempt_f}°F\")"
   ]
  },
  {
   "cell_type": "markdown",
   "id": "568f5714",
   "metadata": {},
   "source": [
    "### 4. Write a program that ask personal info:\n",
    "- Name\n",
    "- Surname\n",
    "- Age\n",
    "- Major of study\n",
    "- 3 subjects of study and their marks\n",
    "\n",
    "Print out the info and the average mark."
   ]
  },
  {
   "cell_type": "code",
   "execution_count": 15,
   "id": "e377614d",
   "metadata": {
    "scrolled": true
   },
   "outputs": [
    {
     "name": "stdout",
     "output_type": "stream",
     "text": [
      "Name: Anh Tu\n",
      "Surname: Duong\n",
      "Age: 22\n",
      "Major of study: Computer Engineering\n",
      "Subject 1: Math\n",
      "Math mark: 29\n",
      "Subject 2: English\n",
      "English mark: 25\n",
      "Subject 3: Programming\n",
      "Programming mark: 27.5\n",
      "The student information: Anh Tu Duong, 22 years old, Computer Engineering\n",
      "Three subjects of study and their marks:\n",
      "Math: 29.0\n",
      "English: 25.0\n",
      "Programming: 27.5\n",
      "Average mark of three subjects is: 27.17\n"
     ]
    }
   ],
   "source": [
    "name = input(\"Name: \")\n",
    "surname = input(\"Surname: \")\n",
    "age = input(\"Age: \")\n",
    "major = input(\"Major of study: \")\n",
    "sub_1 = input(\"Subject 1: \")\n",
    "sub_1_mark = input(f\"{sub_1} mark: \")\n",
    "sub_2 = input(\"Subject 2: \")\n",
    "sub_2_mark = input(f\"{sub_2} mark: \")\n",
    "sub_3 = input(\"Subject 3: \")\n",
    "sub_3_mark = input(f\"{sub_3} mark: \")\n",
    "age = int(age)\n",
    "sub_1_mark = float(sub_1_mark)\n",
    "sub_2_mark = float(sub_2_mark)\n",
    "sub_3_mark = float(sub_3_mark)\n",
    "avg = (sub_1_mark + sub_2_mark + sub_3_mark)/3\n",
    "\n",
    "print(f\"The student information: {name} {surname}, {age} years old, {major}\")\n",
    "print(f\"Three subjects of study and their marks:\")\n",
    "print(f\"{sub_1}: {sub_1_mark}\")\n",
    "print(f\"{sub_2}: {sub_2_mark}\")\n",
    "print(f\"{sub_3}: {sub_3_mark}\")\n",
    "print(f\"Average mark of three subjects is: {round(avg, 2)}\")"
   ]
  },
  {
   "cell_type": "markdown",
   "id": "e14f0e94",
   "metadata": {},
   "source": [
    "### 5. Create a Python program that calculates the area of a circle based on user input for the radius."
   ]
  },
  {
   "cell_type": "code",
   "execution_count": 23,
   "id": "2689f41b",
   "metadata": {},
   "outputs": [
    {
     "name": "stdout",
     "output_type": "stream",
     "text": [
      "Enter radius in cm: 2.5\n",
      "The area of the circle is: 19.625 cm2\n",
      "Explanation: π * (radius^2)\n",
      "Note: π (pi) is a constant approximately equal to 3.14\n"
     ]
    }
   ],
   "source": [
    "radius = input(\"Enter radius in cm: \")\n",
    "radius = float(radius)\n",
    "print(f\"The area of the circle is: {3.14*(radius**2)} cm2\")\n",
    "print(\"Explanation: π * (radius^2)\")\n",
    "print(\"Note: π (pi) is a constant approximately equal to 3.14\")"
   ]
  },
  {
   "cell_type": "markdown",
   "id": "38ac060b",
   "metadata": {},
   "source": [
    "### 6. Create a Python program that calculates the Body Mass Index (BMI) based on user input for weight (in kilograms) and height (in meters)."
   ]
  },
  {
   "cell_type": "code",
   "execution_count": 24,
   "id": "ec7fddd8",
   "metadata": {},
   "outputs": [
    {
     "name": "stdout",
     "output_type": "stream",
     "text": [
      "Enter your weight(kg): 50\n",
      "Enter your height(m): 1.6\n",
      "The Body Mass Index (BMI) is: 19.53 kg/m2\n",
      "Note: BMI = weight/(height*height)\n"
     ]
    }
   ],
   "source": [
    "weight = input(\"Enter your weight(kg): \")\n",
    "height = input(\"Enter your height(m): \")\n",
    "weight = float(weight)\n",
    "height = float(height)\n",
    "bmi = weight/(height*height)\n",
    "print(f\"The Body Mass Index (BMI) is: {round(bmi, 2)} kg/m2\")\n",
    "print(\"Note: BMI = weight/(height*height)\")"
   ]
  },
  {
   "cell_type": "markdown",
   "id": "033d1881",
   "metadata": {},
   "source": [
    "### 7. Create a Python program that calculates the area of a triangle based on user input for the base and height."
   ]
  },
  {
   "cell_type": "code",
   "execution_count": 25,
   "id": "cd09865c",
   "metadata": {},
   "outputs": [
    {
     "name": "stdout",
     "output_type": "stream",
     "text": [
      "Enter base (cm): 20\n",
      "Enter height (cm): 2.0\n",
      "The area of the triangle is: 20.0 cm2\n",
      "Explanation: (base*height)/2\n"
     ]
    }
   ],
   "source": [
    "base = input(\"Enter base (cm): \")\n",
    "height = input(\"Enter height (cm): \")\n",
    "base = float(base)\n",
    "height = float(height)\n",
    "triangle = (base*height)/2\n",
    "print(f\"The area of the triangle is: {round(triangle, 2)} cm2\")\n",
    "print(\"Explanation: (base*height)/2\")"
   ]
  }
 ],
 "metadata": {
  "kernelspec": {
   "display_name": "Python 3 (ipykernel)",
   "language": "python",
   "name": "python3"
  },
  "language_info": {
   "codemirror_mode": {
    "name": "ipython",
    "version": 3
   },
   "file_extension": ".py",
   "mimetype": "text/x-python",
   "name": "python",
   "nbconvert_exporter": "python",
   "pygments_lexer": "ipython3",
   "version": "3.11.5"
  }
 },
 "nbformat": 4,
 "nbformat_minor": 5
}
