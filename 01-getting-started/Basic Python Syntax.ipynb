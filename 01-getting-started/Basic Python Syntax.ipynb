{
 "cells": [
  {
   "cell_type": "markdown",
   "id": "a570cae6",
   "metadata": {},
   "source": [
    "# Basic Python Syntax"
   ]
  },
  {
   "cell_type": "markdown",
   "id": "f4a90589",
   "metadata": {},
   "source": [
    "### 1. Hello world"
   ]
  },
  {
   "cell_type": "code",
   "execution_count": null,
   "id": "4ed8de41",
   "metadata": {},
   "outputs": [],
   "source": [
    "print(\"Hello world\")"
   ]
  },
  {
   "cell_type": "markdown",
   "id": "4e3fb893",
   "metadata": {},
   "source": [
    "### 2. Variables and Assignments:\n",
    "Variables are containers for storing data values.\n",
    "A variable is created the moment you first assign a value to it."
   ]
  },
  {
   "cell_type": "code",
   "execution_count": null,
   "id": "4580028e",
   "metadata": {},
   "outputs": [],
   "source": [
    "a = 10\n",
    "b = -5.5"
   ]
  },
  {
   "cell_type": "markdown",
   "id": "011e97b1",
   "metadata": {},
   "source": [
    "Variables do not need to be declared with any particular type, and can even change type after they have been set."
   ]
  },
  {
   "cell_type": "code",
   "execution_count": null,
   "id": "20cc6077",
   "metadata": {},
   "outputs": [],
   "source": [
    "var_0 = 100\n",
    "var_1 = \"Hello\"\n",
    "\n",
    "var_0 = \"Hi\"\n",
    "var_1 = 50\n",
    "\n",
    "print(var_0)\n",
    "print(var_1)"
   ]
  },
  {
   "cell_type": "markdown",
   "id": "d8f0e67f",
   "metadata": {},
   "source": [
    "Variable name may:\n",
    "- Use upper-case and lower-case letters\n",
    "- Use numbers\n",
    "- Use underscore characters (an underscore is the _ character)\n",
    "\n",
    "Variable name can **NOT**:\n",
    "- Use spaces\n",
    "- Start with a number\n",
    "\n",
    "Variable names are case-sensitive."
   ]
  },
  {
   "cell_type": "code",
   "execution_count": null,
   "id": "48098c43",
   "metadata": {},
   "outputs": [],
   "source": [
    "var, Var = 10, \"abc\"\n",
    "print(var)\n",
    "print(Var)"
   ]
  },
  {
   "cell_type": "markdown",
   "id": "1ff8cffc",
   "metadata": {},
   "source": [
    "### 3. Comments\n",
    "Python has commenting capability for the purpose of in-code documentation.\n",
    "Comments start with a #, and Python will render the rest of the line as a comment:"
   ]
  },
  {
   "cell_type": "code",
   "execution_count": null,
   "id": "5f5cae90",
   "metadata": {},
   "outputs": [],
   "source": [
    "# This is a comment 1\n",
    "# This is a comment 2\n",
    "\n",
    "var = 10 # This is also a comment\n",
    "\n",
    "\"\"\"\n",
    "This is a comment\n",
    "written in\n",
    "more than just one line\n",
    "\"\"\""
   ]
  },
  {
   "cell_type": "markdown",
   "id": "ea954565",
   "metadata": {},
   "source": [
    "### 4. Data types\n",
    "In programming, data type is an important concept.\n",
    "\n",
    "Variables can store data of different types, and different types can do different things.\n",
    "\n",
    "Python has the following data types built-in by default, in these categories:\n",
    "\n",
    "| Name | Notation |\n",
    "| --- | --- |\n",
    "| Text Type | str |\n",
    "| Numeric Types | int, float, complex |\n",
    "| Sequence Types | list, tuple, range |\n",
    "| Mapping Type | dict |\n",
    "| Set Types | set, frozenset |\n",
    "| Boolean Type | bool |\n",
    "| Binary Types | bytes, bytearray, memoryview |\n",
    "| None Type | NoneType |"
   ]
  },
  {
   "cell_type": "code",
   "execution_count": null,
   "id": "32591605",
   "metadata": {},
   "outputs": [],
   "source": [
    "x = \"Hello world\" # str\n",
    "x = 10            # int\n",
    "x = 3.14          # float\n",
    "\n",
    "x = [\"apple\", \"banana\", \"cherry\"] # list\n",
    "x = (\"apple\", \"banana\", \"cherry\") # tuple\n",
    "\n",
    "x = {                             # dict\n",
    "        \"name\": \"John\",\n",
    "        \"age\": 36\n",
    "    }\n",
    "\n",
    "x = {\"apple\", \"banana\", \"cherry\"} # set\n",
    "\n",
    "x = True          # bool\n",
    "x = False         # bool\n",
    "\n",
    "x = None          # NoneType"
   ]
  },
  {
   "cell_type": "code",
   "execution_count": null,
   "id": "7c8e6191",
   "metadata": {},
   "outputs": [],
   "source": [
    "print(type(x))"
   ]
  },
  {
   "cell_type": "markdown",
   "id": "f5651542",
   "metadata": {},
   "source": [
    "#### Practice\n",
    "Create variables to store your name, age, and a favorite color. Print these variables using the print() function."
   ]
  },
  {
   "cell_type": "code",
   "execution_count": null,
   "id": "dc588e49",
   "metadata": {},
   "outputs": [],
   "source": []
  },
  {
   "cell_type": "markdown",
   "id": "2421aed7",
   "metadata": {},
   "source": [
    "### 5. Casting\n",
    "There may be times when you want to specify a type on to a variable. This can be done with casting. Python is an object-orientated language, and as such it uses classes to define data types, including its primitive types.\n",
    "\n",
    "Casting in python is therefore done using constructor functions:\n",
    "\n",
    "- `int()` - constructs an integer number from an integer literal, a float literal (by removing all decimals), or a string literal (providing the string represents a whole number)\n",
    "- `float()` - constructs a float number from an integer literal, a float literal or a string literal (providing the string represents a float or an integer)\n",
    "- `str()` - constructs a string from a wide variety of data types, including strings, integer literals and float literals"
   ]
  },
  {
   "cell_type": "code",
   "execution_count": null,
   "id": "c8edc93a",
   "metadata": {},
   "outputs": [],
   "source": [
    "x = int(1)   # x will be 1\n",
    "y = int(2.8) # y will be 2\n",
    "z = int(\"3\") # z will be 3\n",
    "\n",
    "# Todo: Check their data type"
   ]
  },
  {
   "cell_type": "code",
   "execution_count": null,
   "id": "36d9e0b2",
   "metadata": {},
   "outputs": [],
   "source": [
    "x = float(1)     # x will be 1.0\n",
    "y = float(2.8)   # y will be 2.8\n",
    "z = float(\"3\")   # z will be 3.0\n",
    "w = float(\"4.2\") # w will be 4.2\n",
    "\n",
    "# Todo: Check their data type"
   ]
  },
  {
   "cell_type": "code",
   "execution_count": null,
   "id": "cd02a321",
   "metadata": {},
   "outputs": [],
   "source": [
    "x = str(\"s1\") # x will be 's1'\n",
    "y = str(2)    # y will be '2'\n",
    "z = str(3.0)  # z will be '3.0'\n",
    "\n",
    "# Todo: Check their data type"
   ]
  },
  {
   "cell_type": "markdown",
   "id": "8c55619d",
   "metadata": {},
   "source": [
    "Cast a number type to string type (and vice versa). Then print them and check their data type."
   ]
  },
  {
   "cell_type": "code",
   "execution_count": null,
   "id": "5b15e4b0",
   "metadata": {},
   "outputs": [],
   "source": []
  },
  {
   "cell_type": "markdown",
   "id": "7ae5d901",
   "metadata": {},
   "source": [
    "### 6. String\n",
    "\n",
    "Strings in python are surrounded by either single quotation marks, or double quotation marks.\n",
    "\n",
    "`'hello'` is the same as `\"hello\"`.\n",
    "\n",
    "You can display a string literal with the `print()` function:"
   ]
  },
  {
   "cell_type": "code",
   "execution_count": null,
   "id": "7f0e38e0",
   "metadata": {},
   "outputs": [],
   "source": [
    "print(\"Hello, this is basic python\")"
   ]
  },
  {
   "cell_type": "markdown",
   "id": "b6ca5804",
   "metadata": {},
   "source": [
    "Assigning a string to a variable"
   ]
  },
  {
   "cell_type": "code",
   "execution_count": null,
   "id": "af247cfb",
   "metadata": {},
   "outputs": [],
   "source": [
    "name = \"Nhu\"\n",
    "print(name)"
   ]
  },
  {
   "cell_type": "markdown",
   "id": "41bd2a05",
   "metadata": {},
   "source": [
    "To get the length of a string, use the len() function."
   ]
  },
  {
   "cell_type": "code",
   "execution_count": null,
   "id": "0818658b",
   "metadata": {},
   "outputs": [],
   "source": [
    "name = \"Hong Nhu\"\n",
    "print(len(name))"
   ]
  },
  {
   "cell_type": "markdown",
   "id": "c8502894",
   "metadata": {},
   "source": [
    "To check if a certain phrase or character is present in a string, we can use the keyword `in`."
   ]
  },
  {
   "cell_type": "code",
   "execution_count": null,
   "id": "6266bf7b",
   "metadata": {},
   "outputs": [],
   "source": [
    "txt = \"The best things in life are free!\"\n",
    "print(\"free\" in txt)"
   ]
  },
  {
   "cell_type": "markdown",
   "id": "db08d464",
   "metadata": {},
   "source": [
    "Use it in an `if` statement:"
   ]
  },
  {
   "cell_type": "code",
   "execution_count": null,
   "id": "c83e1453",
   "metadata": {},
   "outputs": [],
   "source": [
    "# Print only if \"free\" is present:\n",
    "txt = \"The best things in life are free!\"\n",
    "if \"free\" in txt:\n",
    "  print(\"Yes, 'free' is present.\")"
   ]
  },
  {
   "cell_type": "code",
   "execution_count": null,
   "id": "be571b33",
   "metadata": {},
   "outputs": [],
   "source": [
    "# Todo: Check if \"expensive\" is not in the variable txt:\n"
   ]
  },
  {
   "cell_type": "markdown",
   "id": "13688aff",
   "metadata": {},
   "source": [
    "### 7. Print function"
   ]
  },
  {
   "cell_type": "markdown",
   "id": "5a746ea8",
   "metadata": {},
   "source": [
    "Print a string"
   ]
  },
  {
   "cell_type": "code",
   "execution_count": null,
   "id": "a8f883c3",
   "metadata": {},
   "outputs": [],
   "source": [
    "print(\"Hello Nhu\")"
   ]
  },
  {
   "cell_type": "markdown",
   "id": "66357e83",
   "metadata": {},
   "source": [
    "Print variables"
   ]
  },
  {
   "cell_type": "code",
   "execution_count": null,
   "id": "7b8f238d",
   "metadata": {},
   "outputs": [],
   "source": [
    "name = \"Hong Nhu\"\n",
    "age = 24\n",
    "print(name, age)\n",
    "print(\"Hello my name is \", name, \" I'm \", age, \" years old.\")"
   ]
  },
  {
   "cell_type": "markdown",
   "id": "fa1f58cc",
   "metadata": {},
   "source": [
    "Print format string, an easy way to print a format string with other variables:"
   ]
  },
  {
   "cell_type": "code",
   "execution_count": null,
   "id": "ada0ee6d",
   "metadata": {},
   "outputs": [],
   "source": [
    "print(f\"Hello my name is {name}, I'm {age} years old.\")"
   ]
  },
  {
   "cell_type": "markdown",
   "id": "5471fe07",
   "metadata": {},
   "source": [
    "### 8. Arithmetic Operators\n",
    "\n",
    "| Operator | Name | Example |\n",
    "| --- | --- | --- |\n",
    "| + | Addition | x + y |\n",
    "| - | Subtraction | x - y |\n",
    "| * | Multiplication | x * y |\n",
    "| / | Division | x / y |\n",
    "| % | Modulus | x % y |\n",
    "| ** | Exponentiation | x ** y |\n",
    "| // | Floor division | x // y |"
   ]
  },
  {
   "cell_type": "code",
   "execution_count": null,
   "id": "8cd499e3",
   "metadata": {},
   "outputs": [],
   "source": [
    "x = 5\n",
    "y = 2\n",
    "\n",
    "# Todo: perform all arithmetic operators:\n"
   ]
  },
  {
   "cell_type": "markdown",
   "id": "91ab7852",
   "metadata": {},
   "source": [
    "### 9. User input\n",
    "Python allows for user input. That means we are able to ask the user for input."
   ]
  },
  {
   "cell_type": "code",
   "execution_count": null,
   "id": "3edb0b3e",
   "metadata": {},
   "outputs": [],
   "source": [
    "user_input = input()\n",
    "print(\"User just typed: \" + user_input)"
   ]
  },
  {
   "cell_type": "code",
   "execution_count": null,
   "id": "ae2e7e34",
   "metadata": {},
   "outputs": [],
   "source": [
    "# Input function can be using with a prompt\n",
    "\n",
    "name = input(\"What's your name? \")\n",
    "print(f\"Hello {name}!\")\n",
    "\n",
    "promt_to_ask = \"How old are you? \"\n",
    "age = input(promt_to_ask)\n",
    "age = int(age)\n",
    "print(f\"So you are {age}!\")"
   ]
  },
  {
   "cell_type": "markdown",
   "id": "568f5714",
   "metadata": {},
   "source": [
    "#### Practice:\n",
    "Write a program that ask personal info:\n",
    "- Name\n",
    "- Surname\n",
    "- Age\n",
    "- Major of study\n",
    "- 3 subjects of study and their marks\n",
    "\n",
    "Print out the info and the average mark."
   ]
  },
  {
   "cell_type": "code",
   "execution_count": null,
   "id": "07206051",
   "metadata": {},
   "outputs": [],
   "source": []
  }
 ],
 "metadata": {
  "kernelspec": {
   "display_name": "Python 3 (ipykernel)",
   "language": "python",
   "name": "python3"
  },
  "language_info": {
   "codemirror_mode": {
    "name": "ipython",
    "version": 3
   },
   "file_extension": ".py",
   "mimetype": "text/x-python",
   "name": "python",
   "nbconvert_exporter": "python",
   "pygments_lexer": "ipython3",
   "version": "3.8.10"
  }
 },
 "nbformat": 4,
 "nbformat_minor": 5
}
